{
 "cells": [
  {
   "cell_type": "code",
   "execution_count": null,
   "metadata": {},
   "outputs": [],
   "source": [
    "import matplotlib\n",
    "import matplotlib.pyplot as plt\n",
    "import numpy as np"
   ]
  },
  {
   "cell_type": "code",
   "execution_count": null,
   "metadata": {},
   "outputs": [],
   "source": [
    "AVLInsertion30 = []\n",
    "AVLInsertion60 = []\n",
    "AVLInsertion100 = []\n",
    "RBInsertion30 = []\n",
    "RBInsertion60 = []\n",
    "RBInsertion100 = []\n",
    "entradas = [30.000, 60.000, 100.000]\n",
    "\n",
    "\n",
    "plt.figure(figsize=(10, 6))\n",
    "plt.title('Inserção em Árvores AVL e Rubro Negra')\n",
    "plt.xlabel('Tamanho da Entrada')\n",
    "plt.ylabel('Tempo Médio (segundos)')\n",
    "plt.grid(True, which='both', linestyle='--', lw=0.5)\n",
    "\n",
    "plt.plot(entradas, AVLInsertion30, label='AVL vetor 30.000')\n",
    "plt.plot(entradas, AVLInsertion60, label='AVL vetor 60.000', color=\"orange\")\n",
    "plt.plot(entradas, AVLInsertion100, label='AVL vetor 100.000', color=\"green\")\n",
    "\n",
    "plt.plot(entradas, RBInsertion30, label='RB vetor 30.000', color=\"red\")\n",
    "plt.plot(entradas, RBInsertion60, label='RB vetor 60.000', color=\"purple\")\n",
    "plt.plot(entradas, RBInsertion100, label='RB vetor 100.000', color=\"grey\")\n",
    "plt.legend()\n",
    "plt.show()"
   ]
  },
  {
   "cell_type": "code",
   "execution_count": null,
   "metadata": {},
   "outputs": [],
   "source": [
    "AVLRemove30 = []\n",
    "AVLRemove60 = []\n",
    "AVLRemove100 = []\n",
    "RBRemove30 = []\n",
    "RBRemove60 = []\n",
    "RBRemove100 = []\n",
    "entradas = [30.000, 60.000, 100.000]\n",
    "\n",
    "\n",
    "plt.figure(figsize=(10, 6))\n",
    "plt.title('Remoção de item em Árvores AVL e Rubro Negra')\n",
    "plt.xlabel('Tamanho da Entrada')\n",
    "plt.ylabel('Tempo Médio (segundos)')\n",
    "plt.grid(True, which='both', linestyle='--', lw=0.5)\n",
    "\n",
    "plt.plot(entradas, AVLRemove30, label='AVL vetor 30.000')\n",
    "plt.plot(entradas, AVLRemove60, label='AVL vetor 60.000', color=\"orange\")\n",
    "plt.plot(entradas, AVLRemove100, label='AVL vetor 100.000', color=\"green\")\n",
    "\n",
    "plt.plot(entradas, RBRemove30, label='RB vetor 30.000', color=\"red\")\n",
    "plt.plot(entradas, RBRemove60, label='RB vetor 60.000', color=\"purple\")\n",
    "plt.plot(entradas, RBRemove100, label='RB vetor 100.000', color=\"grey\")\n",
    "plt.legend()\n",
    "plt.show()"
   ]
  }
 ],
 "metadata": {
  "language_info": {
   "name": "python"
  }
 },
 "nbformat": 4,
 "nbformat_minor": 2
}
