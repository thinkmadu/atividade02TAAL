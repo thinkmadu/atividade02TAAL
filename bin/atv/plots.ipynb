{
 "cells": [
  {
   "cell_type": "code",
   "execution_count": null,
   "metadata": {},
   "outputs": [],
   "source": [
    "import matplotlib\n",
    "import matplotlib.pyplot as plt\n",
    "import numpy as np"
   ]
  },
  {
   "cell_type": "code",
   "execution_count": null,
   "metadata": {},
   "outputs": [],
   "source": [
    "AVLInsertion = [0.0204587, 0.045832401, 0.0869958]\n",
    "RBInsertion = [0.0163618, 0.045742101, 0.06591]\n",
    "entradas = [30.000, 60.000, 100.000]\n",
    "\n",
    "\n",
    "plt.figure(figsize=(10, 6))\n",
    "plt.title('Inserção em Árvores AVL e Rubro Negra')\n",
    "plt.xlabel('Tamanho da Entrada')\n",
    "plt.ylabel('Tempo Médio (segundos)')\n",
    "plt.grid(True, which='both', linestyle='--', lw=0.5)\n",
    "\n",
    "plt.plot(entradas, AVLInsertion, label='AVL vetor 30.000')\n",
    "plt.plot(entradas, RBInsertion, label='RB vetor 100.000', color=\"grey\")\n",
    "plt.legend()\n",
    "plt.show()\n"
   ]
  },
  {
   "cell_type": "code",
   "execution_count": null,
   "metadata": {},
   "outputs": [],
   "source": [
    "AVLRemove30 = []\n",
    "AVLRemove60 = []\n",
    "AVLRemove100 = []\n",
    "RBRemove30 = []\n",
    "RBRemove60 = []\n",
    "RBRemove100 = []\n",
    "entradas = [30.000, 60.000, 100.000]\n",
    "\n",
    "\n",
    "plt.figure(figsize=(10, 6))\n",
    "plt.title('Remoção de item em Árvores AVL e Rubro Negra')\n",
    "plt.xlabel('Tamanho da Entrada')\n",
    "plt.ylabel('Tempo Médio (segundos)')\n",
    "plt.grid(True, which='both', linestyle='--', lw=0.5)\n",
    "\n",
    "plt.plot(entradas, AVLRemove30, label='AVL vetor 30.000')\n",
    "plt.plot(entradas, AVLRemove60, label='AVL vetor 60.000', color=\"orange\")\n",
    "plt.plot(entradas, AVLRemove100, label='AVL vetor 100.000', color=\"green\")\n",
    "\n",
    "plt.plot(entradas, RBRemove30, label='RB vetor 30.000', color=\"red\")\n",
    "plt.plot(entradas, RBRemove60, label='RB vetor 60.000', color=\"purple\")\n",
    "plt.plot(entradas, RBRemove100, label='RB vetor 100.000', color=\"grey\")\n",
    "plt.legend()\n",
    "plt.show()"
   ]
  }
 ],
 "metadata": {
  "kernelspec": {
   "display_name": "Python 3",
   "language": "python",
   "name": "python3"
  },
  "language_info": {
   "name": "python",
   "version": "3.12.6"
  }
 },
 "nbformat": 4,
 "nbformat_minor": 2
}
